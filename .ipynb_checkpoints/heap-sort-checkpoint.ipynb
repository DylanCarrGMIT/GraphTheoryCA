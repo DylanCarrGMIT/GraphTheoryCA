{
 "cells": [
  {
   "cell_type": "markdown",
   "id": "cb16a90e",
   "metadata": {},
   "source": [
    "#Introduction to the Heap Sort Algorithm"
   ]
  },
  {
   "cell_type": "markdown",
   "id": "4c379738",
   "metadata": {},
   "source": [
    "Heap Sort is a comparison-based sorting algorithm, created by J. W. J. Williams in 1964. Williams claimed that Heapsort is a combination of 2 different sorting algorithms, Treesort, and Tournament-sort<cite data-cite=\"katajainen1996ultimate\"></cite>"
   ]
  }
 ],
 "metadata": {
  "kernelspec": {
   "display_name": "Python 3 (ipykernel)",
   "language": "python",
   "name": "python3"
  },
  "language_info": {
   "codemirror_mode": {
    "name": "ipython",
    "version": 3
   },
   "file_extension": ".py",
   "mimetype": "text/x-python",
   "name": "python",
   "nbconvert_exporter": "python",
   "pygments_lexer": "ipython3",
   "version": "3.9.7"
  }
 },
 "nbformat": 4,
 "nbformat_minor": 5
}
